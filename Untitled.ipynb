{
 "cells": [
  {
   "cell_type": "code",
   "execution_count": 1,
   "id": "03244aab",
   "metadata": {},
   "outputs": [],
   "source": [
    "import pandas as pd\n",
    "import numpy as np\n",
    "import matplotlib.pyplot as plt"
   ]
  },
  {
   "cell_type": "code",
   "execution_count": 2,
   "id": "58925251",
   "metadata": {},
   "outputs": [],
   "source": [
    "df = pd.read_csv('Churn_Modelling.csv')"
   ]
  },
  {
   "cell_type": "code",
   "execution_count": null,
   "id": "6ef0aed3",
   "metadata": {},
   "outputs": [],
   "source": []
  },
  {
   "cell_type": "code",
   "execution_count": 3,
   "id": "6b3efde2",
   "metadata": {},
   "outputs": [
    {
     "name": "stdout",
     "output_type": "stream",
     "text": [
      "<class 'pandas.core.frame.DataFrame'>\n",
      "RangeIndex: 10000 entries, 0 to 9999\n",
      "Data columns (total 14 columns):\n",
      " #   Column           Non-Null Count  Dtype  \n",
      "---  ------           --------------  -----  \n",
      " 0   RowNumber        10000 non-null  int64  \n",
      " 1   CustomerId       10000 non-null  int64  \n",
      " 2   Surname          10000 non-null  object \n",
      " 3   CreditScore      10000 non-null  int64  \n",
      " 4   Geography        10000 non-null  object \n",
      " 5   Gender           10000 non-null  object \n",
      " 6   Age              10000 non-null  int64  \n",
      " 7   Tenure           10000 non-null  int64  \n",
      " 8   Balance          10000 non-null  float64\n",
      " 9   NumOfProducts    10000 non-null  int64  \n",
      " 10  HasCrCard        10000 non-null  int64  \n",
      " 11  IsActiveMember   10000 non-null  int64  \n",
      " 12  EstimatedSalary  10000 non-null  float64\n",
      " 13  Exited           10000 non-null  int64  \n",
      "dtypes: float64(2), int64(9), object(3)\n",
      "memory usage: 1.1+ MB\n"
     ]
    }
   ],
   "source": [
    "df.info()"
   ]
  },
  {
   "cell_type": "code",
   "execution_count": 4,
   "id": "b6ff78f7",
   "metadata": {},
   "outputs": [],
   "source": [
    "df.drop(columns=['RowNumber','CustomerId','Surname'], inplace=True)"
   ]
  },
  {
   "cell_type": "code",
   "execution_count": null,
   "id": "b444251f",
   "metadata": {},
   "outputs": [],
   "source": []
  },
  {
   "cell_type": "code",
   "execution_count": 5,
   "id": "b6d979e3",
   "metadata": {},
   "outputs": [],
   "source": [
    "df = pd.get_dummies(df, columns = ['Geography', 'Gender'], drop_first = True)"
   ]
  },
  {
   "cell_type": "code",
   "execution_count": null,
   "id": "53c4765d",
   "metadata": {},
   "outputs": [],
   "source": []
  },
  {
   "cell_type": "code",
   "execution_count": 6,
   "id": "3cfecdb5",
   "metadata": {},
   "outputs": [],
   "source": [
    "from sklearn.model_selection import train_test_split"
   ]
  },
  {
   "cell_type": "code",
   "execution_count": 7,
   "id": "61d423cc",
   "metadata": {},
   "outputs": [],
   "source": [
    "X = df.drop(columns=['Exited'])\n",
    "y = df['Exited']\n",
    "\n",
    "X_train, X_test, y_train, y_test = train_test_split(X,y, test_size=0.2, random_state=1\n",
    "                                                   )"
   ]
  },
  {
   "cell_type": "code",
   "execution_count": 8,
   "id": "cff3e700",
   "metadata": {},
   "outputs": [],
   "source": [
    "from sklearn.preprocessing import StandardScaler"
   ]
  },
  {
   "cell_type": "code",
   "execution_count": 9,
   "id": "1759da4f",
   "metadata": {},
   "outputs": [],
   "source": [
    "scaler = StandardScaler()\n",
    "\n",
    "X_train_scaled = scaler.fit_transform(X_train)\n",
    "X_test_scaled = scaler.transform(X_test)"
   ]
  },
  {
   "cell_type": "code",
   "execution_count": null,
   "id": "7a4af8ca",
   "metadata": {},
   "outputs": [],
   "source": []
  },
  {
   "cell_type": "code",
   "execution_count": 10,
   "id": "cbd72216",
   "metadata": {},
   "outputs": [],
   "source": [
    "import tensorflow as tf\n",
    "from tensorflow import keras\n",
    "from tensorflow.keras import Sequential\n",
    "from tensorflow.keras.layers import Dense"
   ]
  },
  {
   "cell_type": "code",
   "execution_count": 11,
   "id": "0a2adebb",
   "metadata": {},
   "outputs": [],
   "source": [
    "model = Sequential()"
   ]
  },
  {
   "cell_type": "code",
   "execution_count": 12,
   "id": "71e46a54",
   "metadata": {},
   "outputs": [],
   "source": [
    "model.add(Dense(11, activation = 'relu', input_dim=11))\n",
    "model.add(Dense(11, activation = 'relu'))\n",
    "model.add(Dense(1, activation = 'sigmoid'))"
   ]
  },
  {
   "cell_type": "code",
   "execution_count": 13,
   "id": "10f509c9",
   "metadata": {},
   "outputs": [
    {
     "name": "stdout",
     "output_type": "stream",
     "text": [
      "Model: \"sequential\"\n",
      "_________________________________________________________________\n",
      " Layer (type)                Output Shape              Param #   \n",
      "=================================================================\n",
      " dense (Dense)               (None, 11)                132       \n",
      "                                                                 \n",
      " dense_1 (Dense)             (None, 11)                132       \n",
      "                                                                 \n",
      " dense_2 (Dense)             (None, 1)                 12        \n",
      "                                                                 \n",
      "=================================================================\n",
      "Total params: 276\n",
      "Trainable params: 276\n",
      "Non-trainable params: 0\n",
      "_________________________________________________________________\n"
     ]
    }
   ],
   "source": [
    "model.summary()"
   ]
  },
  {
   "cell_type": "code",
   "execution_count": 14,
   "id": "03b46a72",
   "metadata": {},
   "outputs": [],
   "source": [
    "model.compile(loss='binary_crossentropy', optimizer='Adam', metrics=['accuracy'])"
   ]
  },
  {
   "cell_type": "code",
   "execution_count": 15,
   "id": "c091d8e2",
   "metadata": {},
   "outputs": [
    {
     "name": "stdout",
     "output_type": "stream",
     "text": [
      "Epoch 1/100\n",
      "250/250 [==============================] - 0s 703us/step - loss: 0.5128 - accuracy: 0.7856\n",
      "Epoch 2/100\n",
      "250/250 [==============================] - 0s 679us/step - loss: 0.4413 - accuracy: 0.8083\n",
      "Epoch 3/100\n",
      "250/250 [==============================] - 0s 697us/step - loss: 0.4225 - accuracy: 0.8174\n",
      "Epoch 4/100\n",
      "250/250 [==============================] - 0s 691us/step - loss: 0.4133 - accuracy: 0.8224\n",
      "Epoch 5/100\n",
      "250/250 [==============================] - 0s 705us/step - loss: 0.4021 - accuracy: 0.8289\n",
      "Epoch 6/100\n",
      "250/250 [==============================] - 0s 687us/step - loss: 0.3890 - accuracy: 0.8341\n",
      "Epoch 7/100\n",
      "250/250 [==============================] - 0s 702us/step - loss: 0.3754 - accuracy: 0.8429\n",
      "Epoch 8/100\n",
      "250/250 [==============================] - 0s 699us/step - loss: 0.3644 - accuracy: 0.8508\n",
      "Epoch 9/100\n",
      "250/250 [==============================] - 0s 691us/step - loss: 0.3571 - accuracy: 0.8516\n",
      "Epoch 10/100\n",
      "250/250 [==============================] - 0s 695us/step - loss: 0.3519 - accuracy: 0.8539\n",
      "Epoch 11/100\n",
      "250/250 [==============================] - 0s 714us/step - loss: 0.3494 - accuracy: 0.8545\n",
      "Epoch 12/100\n",
      "250/250 [==============================] - 0s 711us/step - loss: 0.3470 - accuracy: 0.8569\n",
      "Epoch 13/100\n",
      "250/250 [==============================] - 0s 680us/step - loss: 0.3458 - accuracy: 0.8558\n",
      "Epoch 14/100\n",
      "250/250 [==============================] - 0s 696us/step - loss: 0.3447 - accuracy: 0.8584\n",
      "Epoch 15/100\n",
      "250/250 [==============================] - 0s 718us/step - loss: 0.3431 - accuracy: 0.8583\n",
      "Epoch 16/100\n",
      "250/250 [==============================] - 0s 717us/step - loss: 0.3423 - accuracy: 0.8593\n",
      "Epoch 17/100\n",
      "250/250 [==============================] - 0s 705us/step - loss: 0.3413 - accuracy: 0.8584\n",
      "Epoch 18/100\n",
      "250/250 [==============================] - 0s 720us/step - loss: 0.3407 - accuracy: 0.8589\n",
      "Epoch 19/100\n",
      "250/250 [==============================] - 0s 765us/step - loss: 0.3399 - accuracy: 0.8602\n",
      "Epoch 20/100\n",
      "250/250 [==============================] - 0s 714us/step - loss: 0.3394 - accuracy: 0.8615\n",
      "Epoch 21/100\n",
      "250/250 [==============================] - 0s 747us/step - loss: 0.3384 - accuracy: 0.8606\n",
      "Epoch 22/100\n",
      "250/250 [==============================] - 0s 729us/step - loss: 0.3381 - accuracy: 0.8608\n",
      "Epoch 23/100\n",
      "250/250 [==============================] - 0s 726us/step - loss: 0.3378 - accuracy: 0.8616\n",
      "Epoch 24/100\n",
      "250/250 [==============================] - 0s 751us/step - loss: 0.3372 - accuracy: 0.8601\n",
      "Epoch 25/100\n",
      "250/250 [==============================] - 0s 707us/step - loss: 0.3366 - accuracy: 0.8620\n",
      "Epoch 26/100\n",
      "250/250 [==============================] - 0s 699us/step - loss: 0.3364 - accuracy: 0.8609\n",
      "Epoch 27/100\n",
      "250/250 [==============================] - 0s 723us/step - loss: 0.3356 - accuracy: 0.8618\n",
      "Epoch 28/100\n",
      "250/250 [==============================] - 0s 750us/step - loss: 0.3356 - accuracy: 0.8625\n",
      "Epoch 29/100\n",
      "250/250 [==============================] - 0s 709us/step - loss: 0.3352 - accuracy: 0.8601\n",
      "Epoch 30/100\n",
      "250/250 [==============================] - 0s 707us/step - loss: 0.3348 - accuracy: 0.8616\n",
      "Epoch 31/100\n",
      "250/250 [==============================] - 0s 738us/step - loss: 0.3344 - accuracy: 0.8618\n",
      "Epoch 32/100\n",
      "250/250 [==============================] - 0s 745us/step - loss: 0.3340 - accuracy: 0.8626\n",
      "Epoch 33/100\n",
      "250/250 [==============================] - 0s 703us/step - loss: 0.3342 - accuracy: 0.8614\n",
      "Epoch 34/100\n",
      "250/250 [==============================] - 0s 723us/step - loss: 0.3326 - accuracy: 0.8627\n",
      "Epoch 35/100\n",
      "250/250 [==============================] - 0s 735us/step - loss: 0.3333 - accuracy: 0.8630\n",
      "Epoch 36/100\n",
      "250/250 [==============================] - 0s 696us/step - loss: 0.3326 - accuracy: 0.8614\n",
      "Epoch 37/100\n",
      "250/250 [==============================] - 0s 693us/step - loss: 0.3321 - accuracy: 0.8626\n",
      "Epoch 38/100\n",
      "250/250 [==============================] - 0s 729us/step - loss: 0.3325 - accuracy: 0.8612\n",
      "Epoch 39/100\n",
      "250/250 [==============================] - 0s 727us/step - loss: 0.3317 - accuracy: 0.8625\n",
      "Epoch 40/100\n",
      "250/250 [==============================] - 0s 707us/step - loss: 0.3315 - accuracy: 0.8621\n",
      "Epoch 41/100\n",
      "250/250 [==============================] - 0s 699us/step - loss: 0.3315 - accuracy: 0.8608\n",
      "Epoch 42/100\n",
      "250/250 [==============================] - 0s 742us/step - loss: 0.3311 - accuracy: 0.8624\n",
      "Epoch 43/100\n",
      "250/250 [==============================] - 0s 730us/step - loss: 0.3308 - accuracy: 0.8624\n",
      "Epoch 44/100\n",
      "250/250 [==============================] - 0s 715us/step - loss: 0.3299 - accuracy: 0.8621\n",
      "Epoch 45/100\n",
      "250/250 [==============================] - 0s 703us/step - loss: 0.3299 - accuracy: 0.8606\n",
      "Epoch 46/100\n",
      "250/250 [==============================] - 0s 763us/step - loss: 0.3293 - accuracy: 0.8620\n",
      "Epoch 47/100\n",
      "250/250 [==============================] - 0s 725us/step - loss: 0.3297 - accuracy: 0.8610\n",
      "Epoch 48/100\n",
      "250/250 [==============================] - 0s 701us/step - loss: 0.3293 - accuracy: 0.8621\n",
      "Epoch 49/100\n",
      "250/250 [==============================] - 0s 710us/step - loss: 0.3289 - accuracy: 0.8627\n",
      "Epoch 50/100\n",
      "250/250 [==============================] - 0s 743us/step - loss: 0.3290 - accuracy: 0.8620\n",
      "Epoch 51/100\n",
      "250/250 [==============================] - 0s 726us/step - loss: 0.3283 - accuracy: 0.8616\n",
      "Epoch 52/100\n",
      "250/250 [==============================] - 0s 700us/step - loss: 0.3281 - accuracy: 0.8618\n",
      "Epoch 53/100\n",
      "250/250 [==============================] - 0s 710us/step - loss: 0.3279 - accuracy: 0.8619\n",
      "Epoch 54/100\n",
      "250/250 [==============================] - 0s 703us/step - loss: 0.3271 - accuracy: 0.8622\n",
      "Epoch 55/100\n",
      "250/250 [==============================] - 0s 691us/step - loss: 0.3276 - accuracy: 0.8620\n",
      "Epoch 56/100\n",
      "250/250 [==============================] - 0s 696us/step - loss: 0.3272 - accuracy: 0.8609\n",
      "Epoch 57/100\n",
      "250/250 [==============================] - 0s 697us/step - loss: 0.3272 - accuracy: 0.8622\n",
      "Epoch 58/100\n",
      "250/250 [==============================] - 0s 706us/step - loss: 0.3272 - accuracy: 0.8633\n",
      "Epoch 59/100\n",
      "250/250 [==============================] - 0s 698us/step - loss: 0.3265 - accuracy: 0.8626\n",
      "Epoch 60/100\n",
      "250/250 [==============================] - 0s 702us/step - loss: 0.3264 - accuracy: 0.8627\n",
      "Epoch 61/100\n",
      "250/250 [==============================] - 0s 687us/step - loss: 0.3266 - accuracy: 0.8640\n",
      "Epoch 62/100\n",
      "250/250 [==============================] - 0s 731us/step - loss: 0.3263 - accuracy: 0.8621\n",
      "Epoch 63/100\n",
      "250/250 [==============================] - 0s 703us/step - loss: 0.3262 - accuracy: 0.8634\n",
      "Epoch 64/100\n",
      "250/250 [==============================] - 0s 691us/step - loss: 0.3260 - accuracy: 0.8624\n",
      "Epoch 65/100\n",
      "250/250 [==============================] - 0s 716us/step - loss: 0.3260 - accuracy: 0.8612\n",
      "Epoch 66/100\n",
      "250/250 [==============================] - 0s 699us/step - loss: 0.3258 - accuracy: 0.8636\n",
      "Epoch 67/100\n",
      "250/250 [==============================] - 0s 762us/step - loss: 0.3254 - accuracy: 0.8637\n",
      "Epoch 68/100\n",
      "250/250 [==============================] - 0s 717us/step - loss: 0.3259 - accuracy: 0.8620\n",
      "Epoch 69/100\n",
      "250/250 [==============================] - 0s 705us/step - loss: 0.3253 - accuracy: 0.8625\n",
      "Epoch 70/100\n",
      "250/250 [==============================] - 0s 707us/step - loss: 0.3253 - accuracy: 0.8626\n",
      "Epoch 71/100\n",
      "250/250 [==============================] - 0s 700us/step - loss: 0.3252 - accuracy: 0.8636\n",
      "Epoch 72/100\n",
      "250/250 [==============================] - 0s 727us/step - loss: 0.3254 - accuracy: 0.8620\n",
      "Epoch 73/100\n",
      "250/250 [==============================] - 0s 707us/step - loss: 0.3251 - accuracy: 0.8627\n",
      "Epoch 74/100\n",
      "250/250 [==============================] - 0s 708us/step - loss: 0.3248 - accuracy: 0.8633\n",
      "Epoch 75/100\n",
      "250/250 [==============================] - 0s 713us/step - loss: 0.3243 - accuracy: 0.8641\n",
      "Epoch 76/100\n",
      "250/250 [==============================] - 0s 700us/step - loss: 0.3244 - accuracy: 0.8634\n",
      "Epoch 77/100\n",
      "250/250 [==============================] - 0s 696us/step - loss: 0.3246 - accuracy: 0.8634\n",
      "Epoch 78/100\n",
      "250/250 [==============================] - 0s 693us/step - loss: 0.3246 - accuracy: 0.8639\n",
      "Epoch 79/100\n"
     ]
    },
    {
     "name": "stdout",
     "output_type": "stream",
     "text": [
      "250/250 [==============================] - 0s 695us/step - loss: 0.3244 - accuracy: 0.8630\n",
      "Epoch 80/100\n",
      "250/250 [==============================] - 0s 675us/step - loss: 0.3237 - accuracy: 0.8625\n",
      "Epoch 81/100\n",
      "250/250 [==============================] - 0s 699us/step - loss: 0.3239 - accuracy: 0.8644\n",
      "Epoch 82/100\n",
      "250/250 [==============================] - 0s 680us/step - loss: 0.3235 - accuracy: 0.8634\n",
      "Epoch 83/100\n",
      "250/250 [==============================] - 0s 699us/step - loss: 0.3235 - accuracy: 0.8644\n",
      "Epoch 84/100\n",
      "250/250 [==============================] - 0s 687us/step - loss: 0.3235 - accuracy: 0.8636\n",
      "Epoch 85/100\n",
      "250/250 [==============================] - 0s 721us/step - loss: 0.3235 - accuracy: 0.8634\n",
      "Epoch 86/100\n",
      "250/250 [==============================] - 0s 702us/step - loss: 0.3234 - accuracy: 0.8639\n",
      "Epoch 87/100\n",
      "250/250 [==============================] - 0s 687us/step - loss: 0.3235 - accuracy: 0.8633\n",
      "Epoch 88/100\n",
      "250/250 [==============================] - 0s 691us/step - loss: 0.3231 - accuracy: 0.8650\n",
      "Epoch 89/100\n",
      "250/250 [==============================] - 0s 699us/step - loss: 0.3229 - accuracy: 0.8630\n",
      "Epoch 90/100\n",
      "250/250 [==============================] - 0s 711us/step - loss: 0.3223 - accuracy: 0.8634\n",
      "Epoch 91/100\n",
      "250/250 [==============================] - 0s 702us/step - loss: 0.3228 - accuracy: 0.8641\n",
      "Epoch 92/100\n",
      "250/250 [==============================] - 0s 687us/step - loss: 0.3228 - accuracy: 0.8650\n",
      "Epoch 93/100\n",
      "250/250 [==============================] - 0s 703us/step - loss: 0.3231 - accuracy: 0.8645\n",
      "Epoch 94/100\n",
      "250/250 [==============================] - 0s 694us/step - loss: 0.3227 - accuracy: 0.8635\n",
      "Epoch 95/100\n",
      "250/250 [==============================] - 0s 702us/step - loss: 0.3222 - accuracy: 0.8639\n",
      "Epoch 96/100\n",
      "250/250 [==============================] - 0s 698us/step - loss: 0.3217 - accuracy: 0.8646\n",
      "Epoch 97/100\n",
      "250/250 [==============================] - 0s 697us/step - loss: 0.3219 - accuracy: 0.8635\n",
      "Epoch 98/100\n",
      "250/250 [==============================] - 0s 695us/step - loss: 0.3221 - accuracy: 0.8659\n",
      "Epoch 99/100\n",
      "250/250 [==============================] - 0s 699us/step - loss: 0.3220 - accuracy: 0.8630\n",
      "Epoch 100/100\n",
      "250/250 [==============================] - 0s 714us/step - loss: 0.3217 - accuracy: 0.8649\n"
     ]
    },
    {
     "data": {
      "text/plain": [
       "<keras.callbacks.History at 0x1e2f41d1e20>"
      ]
     },
     "execution_count": 15,
     "metadata": {},
     "output_type": "execute_result"
    }
   ],
   "source": [
    "model.fit(X_train_scaled,y_train, epochs=100)"
   ]
  },
  {
   "cell_type": "code",
   "execution_count": 16,
   "id": "7b11db47",
   "metadata": {},
   "outputs": [
    {
     "name": "stdout",
     "output_type": "stream",
     "text": [
      "63/63 [==============================] - 0s 531us/step\n"
     ]
    }
   ],
   "source": [
    "y_log = model.predict(X_test_scaled)"
   ]
  },
  {
   "cell_type": "code",
   "execution_count": 17,
   "id": "f2ef0a8c",
   "metadata": {},
   "outputs": [],
   "source": [
    "y_pred = np.where(y_log>0.5,1,0)"
   ]
  },
  {
   "cell_type": "code",
   "execution_count": 18,
   "id": "d80539b5",
   "metadata": {},
   "outputs": [
    {
     "data": {
      "text/plain": [
       "array([[0],\n",
       "       [0],\n",
       "       [0],\n",
       "       ...,\n",
       "       [0],\n",
       "       [0],\n",
       "       [0]])"
      ]
     },
     "execution_count": 18,
     "metadata": {},
     "output_type": "execute_result"
    }
   ],
   "source": [
    "y_pred"
   ]
  },
  {
   "cell_type": "code",
   "execution_count": null,
   "id": "db0ef1ee",
   "metadata": {},
   "outputs": [],
   "source": []
  },
  {
   "cell_type": "code",
   "execution_count": null,
   "id": "d527e0de",
   "metadata": {},
   "outputs": [],
   "source": []
  },
  {
   "cell_type": "code",
   "execution_count": null,
   "id": "afd6af44",
   "metadata": {},
   "outputs": [],
   "source": []
  },
  {
   "cell_type": "code",
   "execution_count": null,
   "id": "f67939d2",
   "metadata": {},
   "outputs": [],
   "source": []
  }
 ],
 "metadata": {
  "kernelspec": {
   "display_name": "Python 3 (ipykernel)",
   "language": "python",
   "name": "python3"
  },
  "language_info": {
   "codemirror_mode": {
    "name": "ipython",
    "version": 3
   },
   "file_extension": ".py",
   "mimetype": "text/x-python",
   "name": "python",
   "nbconvert_exporter": "python",
   "pygments_lexer": "ipython3",
   "version": "3.10.2"
  },
  "vscode": {
   "interpreter": {
    "hash": "ae14692145d1f1b106b1df4436d3a8cbbc627e02984123bb41975600f93df61f"
   }
  }
 },
 "nbformat": 4,
 "nbformat_minor": 5
}
